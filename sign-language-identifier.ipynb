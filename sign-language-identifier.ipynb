{
 "cells": [
  {
   "cell_type": "code",
   "execution_count": 1,
   "metadata": {},
   "outputs": [],
   "source": [
    "import pandas as pd\n",
    "import numpy as np\n",
    "train_csv = pd.read_csv('sign_mnist_train.csv')\n",
    "test_csv = pd.read_csv('sign_mnist_test.csv')"
   ]
  },
  {
   "cell_type": "code",
   "execution_count": 2,
   "metadata": {},
   "outputs": [
    {
     "name": "stdout",
     "output_type": "stream",
     "text": [
      "Unique Labels: [ 0  1  2  3  4  5  6  7  8 10 11 12 13 14 15 16 17 18 19 20 21 22 23 24]\n",
      "(27455,)\n",
      "(27455, 28, 28)\n"
     ]
    }
   ],
   "source": [
    "#Create X_train (images) and Y_train (labels)\n",
    "\n",
    "labels = []\n",
    "images = []\n",
    "for row in train_csv.iterrows():\n",
    "    label = row[1][0]\n",
    "    image = np.array_split(row[1][1:],28)\n",
    "    labels.append(label)\n",
    "    images.append(image)\n",
    "\n",
    "num_classes = len(np.unique(labels))\n",
    "print('Unique Labels: ' + str(np.unique(labels)))\n",
    "labels = np.array(labels)\n",
    "images = np.array(images)\n",
    "print(labels.shape)\n",
    "print(images.shape)"
   ]
  },
  {
   "cell_type": "code",
   "execution_count": 3,
   "metadata": {},
   "outputs": [
    {
     "name": "stdout",
     "output_type": "stream",
     "text": [
      "(27455, 1)\n",
      "(27455, 28, 28, 1)\n"
     ]
    }
   ],
   "source": [
    "#Expand dims for these 2 np arrays so that they can be set as input to TF model\n",
    "labels = np.expand_dims(labels,axis=1)\n",
    "images = np.expand_dims(images,axis=3)\n",
    "print(labels.shape)\n",
    "print(images.shape)"
   ]
  },
  {
   "cell_type": "code",
   "execution_count": 4,
   "metadata": {},
   "outputs": [
    {
     "name": "stdout",
     "output_type": "stream",
     "text": [
      "(7172,)\n",
      "(7172, 28, 28)\n"
     ]
    }
   ],
   "source": [
    "#Create X_test (images) and Y_test (labels); we will also use this for Validation\n",
    "\n",
    "labels_test = []\n",
    "images_test = []\n",
    "for row in test_csv.iterrows():\n",
    "    label = row[1][0]\n",
    "    image = np.array_split(row[1][1:],28)\n",
    "    labels_test.append(label)\n",
    "    images_test.append(image)\n",
    "\n",
    "labels_test = np.array(labels_test)\n",
    "images_test = np.array(images_test)\n",
    "print(labels_test.shape)\n",
    "print(images_test.shape)"
   ]
  },
  {
   "cell_type": "code",
   "execution_count": 5,
   "metadata": {},
   "outputs": [
    {
     "name": "stdout",
     "output_type": "stream",
     "text": [
      "(7172, 1)\n",
      "(7172, 28, 28, 1)\n"
     ]
    }
   ],
   "source": [
    "#Expand dims for these 2 np arrays so that they can be set as input to TF model\n",
    "labels_test = np.expand_dims(labels_test,axis=1)\n",
    "images_test = np.expand_dims(images_test,axis=3)\n",
    "print(labels_test.shape)\n",
    "print(images_test.shape)"
   ]
  },
  {
   "cell_type": "code",
   "execution_count": 6,
   "metadata": {},
   "outputs": [],
   "source": [
    "X_train = images.astype(float)\n",
    "Y_train = labels.astype(float)\n",
    "X_test = images_test.astype(float)\n",
    "Y_test = labels_test.astype(float)"
   ]
  },
  {
   "cell_type": "code",
   "execution_count": 7,
   "metadata": {},
   "outputs": [],
   "source": [
    "#Split the training and test sets\n",
    "from sklearn.model_selection import train_test_split\n",
    "X_train, X_validate, Y_train, Y_validate = train_test_split(X_train, Y_train, test_size = 0.2, random_state = 12345)"
   ]
  },
  {
   "cell_type": "code",
   "execution_count": 8,
   "metadata": {},
   "outputs": [
    {
     "name": "stdout",
     "output_type": "stream",
     "text": [
      "(21964, 28, 28, 1)\n",
      "(5491, 28, 28, 1)\n",
      "(21964, 1)\n",
      "(5491, 1)\n"
     ]
    }
   ],
   "source": [
    "print(X_train.shape)\n",
    "print(X_validate.shape)\n",
    "print(Y_train.shape)\n",
    "print(Y_validate.shape)"
   ]
  },
  {
   "cell_type": "code",
   "execution_count": 9,
   "metadata": {},
   "outputs": [],
   "source": [
    "#Create a Image Generator for X_train\n",
    "import tensorflow as tf\n",
    "from tensorflow.keras.preprocessing.image import ImageDataGenerator\n",
    "train_datagen = ImageDataGenerator(rescale=1/255,rotation_range=45, width_shift_range=0.25,\n",
    "    height_shift_range=0.15,shear_range=0.15, zoom_range=0.2, fill_mode='nearest')\n",
    "test_datagen = ImageDataGenerator(rescale=1/255)\n",
    "valid_datagen = ImageDataGenerator(rescale=1/255)\n",
    "train_generator = train_datagen.flow(X_train, Y_train, batch_size=32)\n",
    "test_generator =  test_datagen.flow(X_test,Y_test,batch_size=32)\n",
    "valid_generator = valid_datagen.flow(X_validate,Y_validate,batch_size=32)"
   ]
  },
  {
   "cell_type": "code",
   "execution_count": 10,
   "metadata": {},
   "outputs": [
    {
     "name": "stdout",
     "output_type": "stream",
     "text": [
      "Model: \"sequential\"\n",
      "_________________________________________________________________\n",
      "Layer (type)                 Output Shape              Param #   \n",
      "=================================================================\n",
      "conv2d (Conv2D)              (None, 28, 28, 16)        160       \n",
      "_________________________________________________________________\n",
      "max_pooling2d (MaxPooling2D) (None, 14, 14, 16)        0         \n",
      "_________________________________________________________________\n",
      "conv2d_1 (Conv2D)            (None, 14, 14, 32)        4640      \n",
      "_________________________________________________________________\n",
      "max_pooling2d_1 (MaxPooling2 (None, 7, 7, 32)          0         \n",
      "_________________________________________________________________\n",
      "conv2d_2 (Conv2D)            (None, 7, 7, 64)          18496     \n",
      "_________________________________________________________________\n",
      "max_pooling2d_2 (MaxPooling2 (None, 3, 3, 64)          0         \n",
      "_________________________________________________________________\n",
      "conv2d_3 (Conv2D)            (None, 3, 3, 128)         73856     \n",
      "_________________________________________________________________\n",
      "max_pooling2d_3 (MaxPooling2 (None, 1, 1, 128)         0         \n",
      "_________________________________________________________________\n",
      "flatten (Flatten)            (None, 128)               0         \n",
      "_________________________________________________________________\n",
      "dense (Dense)                (None, 64)                8256      \n",
      "_________________________________________________________________\n",
      "dense_1 (Dense)              (None, 24)                1560      \n",
      "=================================================================\n",
      "Total params: 106,968\n",
      "Trainable params: 106,968\n",
      "Non-trainable params: 0\n",
      "_________________________________________________________________\n"
     ]
    }
   ],
   "source": [
    "#Define and compile the TF Model\n",
    "import tensorflow as tf\n",
    "\n",
    "model = tf.keras.Sequential(\n",
    "[\n",
    "    tf.keras.layers.Conv2D(16, (3,3), padding='same', activation=tf.nn.relu,\n",
    "                           input_shape=(28, 28, 1)),\n",
    "    tf.keras.layers.MaxPooling2D((2,2)),\n",
    "    tf.keras.layers.Conv2D(32, (3,3), padding='same', activation=tf.nn.relu),\n",
    "    tf.keras.layers.MaxPooling2D((2,2)),\n",
    "    tf.keras.layers.Conv2D(64, (3,3), padding='same', activation=tf.nn.relu),\n",
    "    tf.keras.layers.MaxPooling2D((2,2)),\n",
    "     tf.keras.layers.Conv2D(128, (3,3), padding='same', activation=tf.nn.relu),\n",
    "    tf.keras.layers.MaxPooling2D((2,2)),\n",
    "    tf.keras.layers.Flatten(),\n",
    "    tf.keras.layers.Dense(64, activation=tf.nn.relu),\n",
    "    tf.keras.layers.Dense(num_classes, activation=tf.nn.softmax)\n",
    "])\n",
    "\n",
    "#!!!!! IF YOU USE ADAM , THE ACCURACY STAYS AT 0 , USE SGD OPTIMIZER !!!\n",
    "model.compile(optimizer='SGD',loss='categorical_crossentropy',metrics = ['accuracy'])\n",
    "model.summary()"
   ]
  },
  {
   "cell_type": "code",
   "execution_count": 11,
   "metadata": {},
   "outputs": [
    {
     "name": "stdout",
     "output_type": "stream",
     "text": [
      "Epoch 1/500\n",
      "687/687 [==============================] - 13s 18ms/step - loss: nan - accuracy: 0.9650 - val_loss: nan - val_accuracy: 1.0000\n",
      "Epoch 2/500\n",
      "687/687 [==============================] - 13s 20ms/step - loss: nan - accuracy: 1.0000 - val_loss: nan - val_accuracy: 1.0000\n",
      "Epoch 3/500\n",
      "687/687 [==============================] - 14s 20ms/step - loss: nan - accuracy: 1.0000 - val_loss: nan - val_accuracy: 1.0000\n",
      "Epoch 4/500\n",
      "687/687 [==============================] - 13s 20ms/step - loss: nan - accuracy: 1.0000 - val_loss: nan - val_accuracy: 1.0000\n",
      "Epoch 5/500\n",
      "687/687 [==============================] - 13s 20ms/step - loss: nan - accuracy: 1.0000 - val_loss: nan - val_accuracy: 1.0000\n",
      "Epoch 6/500\n",
      "687/687 [==============================] - 15s 21ms/step - loss: nan - accuracy: 1.0000 - val_loss: nan - val_accuracy: 1.0000\n",
      "Epoch 7/500\n",
      "687/687 [==============================] - 14s 20ms/step - loss: nan - accuracy: 1.0000 - val_loss: nan - val_accuracy: 1.0000\n",
      "Epoch 8/500\n",
      "687/687 [==============================] - 15s 21ms/step - loss: nan - accuracy: 1.0000 - val_loss: nan - val_accuracy: 1.0000\n",
      "Epoch 9/500\n",
      "687/687 [==============================] - 14s 21ms/step - loss: nan - accuracy: 1.0000 - val_loss: nan - val_accuracy: 1.0000\n",
      "Epoch 10/500\n",
      "687/687 [==============================] - 18s 26ms/step - loss: nan - accuracy: 1.0000 - val_loss: nan - val_accuracy: 1.0000\n"
     ]
    }
   ],
   "source": [
    "history = model.fit(train_generator,\n",
    "                    epochs=500,\n",
    "                    validation_data =valid_generator,\n",
    "                    callbacks = [\n",
    "    tf.keras.callbacks.EarlyStopping(monitor='loss', patience=10)\n",
    "])"
   ]
  },
  {
   "cell_type": "code",
   "execution_count": 12,
   "metadata": {},
   "outputs": [
    {
     "data": {
      "image/png": "[encoded data removed]",
      "text/plain": [
       "<Figure size 432x288 with 1 Axes>"
      ]
     },
     "metadata": {
      "needs_background": "light"
     },
     "output_type": "display_data"
    },
    {
     "data": {
      "image/png": "[encoded data removed]",
      "text/plain": [
       "<Figure size 432x288 with 1 Axes>"
      ]
     },
     "metadata": {
      "needs_background": "light"
     },
     "output_type": "display_data"
    }
   ],
   "source": [
    "# Plot the chart for accuracy and loss on both training and validation\n",
    "%matplotlib inline\n",
    "import matplotlib.pyplot as plt\n",
    "acc = history.history['accuracy']# Your Code Here\n",
    "val_acc =history.history['val_accuracy'] # Your Code Here\n",
    "loss = history.history['loss']# Your Code Here\n",
    "val_loss = history.history['val_loss']# Your Code Here\n",
    "\n",
    "epochs = range(len(acc))\n",
    "\n",
    "plt.plot(epochs, acc, 'r', label='Training accuracy')\n",
    "plt.plot(epochs, val_acc, 'b', label='Validation accuracy')\n",
    "plt.title('Training and validation accuracy')\n",
    "plt.legend()\n",
    "plt.figure()\n",
    "\n",
    "plt.plot(epochs, loss, 'r', label='Training Loss')\n",
    "plt.plot(epochs, val_loss, 'b', label='Validation Loss')\n",
    "plt.title('Training and validation loss')\n",
    "plt.legend()\n",
    "\n",
    "plt.show()"
   ]
  },
  {
   "cell_type": "code",
   "execution_count": 13,
   "metadata": {},
   "outputs": [
    {
     "name": "stdout",
     "output_type": "stream",
     "text": [
      "Test loss: nan\n",
      "Test accuracy: 1.0\n"
     ]
    }
   ],
   "source": [
    "score = model.evaluate(test_generator, verbose = 0) \n",
    "print('Test loss:', score[0])\n",
    "print('Test accuracy:', score[1])"
   ]
  }
 ],
 "metadata": {
  "kernelspec": {
   "display_name": "Python 3",
   "language": "python",
   "name": "python3"
  },
  "language_info": {
   "codemirror_mode": {
    "name": "ipython",
    "version": 3
   },
   "file_extension": ".py",
   "mimetype": "text/x-python",
   "name": "python",
   "nbconvert_exporter": "python",
   "pygments_lexer": "ipython3",
   "version": "3.8.8"
  }
 },
 "nbformat": 4,
 "nbformat_minor": 4
}
